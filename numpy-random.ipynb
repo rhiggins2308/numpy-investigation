{
 "cells": [
  {
   "cell_type": "markdown",
   "metadata": {},
   "source": [
    "# The numPy.random Library\n",
    "---------------------------------------------\n",
    "\n",
    "## Here follows an investigation into the numPy.random library\n",
    "\n",
    "After a brief introduction to **numPy**, explaining:\n",
    "* what is numPy\n",
    "* why is it so useful\n",
    "\n",
    "\n",
    "we will zoom in to the **numpy.random** package to examine some of the **functionality**, namely:\n",
    "* Simple Random Data\n",
    "* Permutations\n",
    "\n",
    "\n",
    "Further to this, we will then look into some examples of the various numpy **distributions**:\n",
    "* Some explanatory introduction and **visualisation**\n",
    "* Where and how they are used in **Mathematics, Statistics and Probability**\n",
    "* How this relates back to **coding and data analysis**\n",
    "\n",
    "\n",
    "Finally, we will discuss **seeding** within the numpy.random package\n",
    "* Can Python really generate random numbers?\n",
    "* How do Python \"random\" numbers work?\n",
    "* Is there pattern to Python randomness?\n"
   ]
  },
  {
   "cell_type": "markdown",
   "metadata": {},
   "source": [
    "## 1: numPy & numpy.random\n",
    "\n",
    "### What is numPy?\n",
    "NumPy is an open-source library for Python, that is used for scientific computing and data analysis.[1] While the numPy library contains a number of facilities, including specialised mathematical functions and integration tools for C/C++/Fortran code [2], it's most attractive function is that it introduces a multi-dimensional array object, making it very easy to store, investigate and manipulate extremely large data sets [5].\n",
    "\n",
    "More detailed information on all of the above can be found at www.numpy.org.\n",
    "This document will focus on more detail on one particular area of the numpy package, namely Random Sampling.\n",
    "\n",
    "### Simple Random Sampling\n",
    "In a mathematical sense, before we can begin to analyse any dataset, we must be sure that it is valid data.\n",
    "Statistically, this means ensuring that the dataset we are working on, accurately represents the larger group of people or things, that we want to make analytical statements or draw conclusions on.\n",
    "\n",
    "One of the cornerstones of any statistical analysis is the assumption that the data being analysed is random. Without going into too much detail on the mathematical concepts around this, we are trying to eliminate bias within our dataset and the best way to do this is by randomly selecting a sample of data from the population.\n",
    "\n",
    "A simple example might be if I want to use a small sample of shoppers to draw conclusions about the nations' favourite supermarket. If I stand outside a Tesco store and ask people as they enter the store, \"What is your favourite supermarket?\", the chances are high that they will answer \"Tesco\". This will skew my dataset towards one particular answer and therefore, my data is not randomly selected due to my method of generation.\n",
    "\n",
    "### numpy.random\n",
    "The **numpy.random** package is concerned with the generation of various types of random data, for analysis. \n",
    "\n",
    "The package is broken down into four (4) distinct areas. We will now look into the detail of each of these areas, using some code snippets and visualisations to demonstrate.\n",
    "\n",
    "As with all python packages, we must import before we can use within our code:"
   ]
  },
  {
   "cell_type": "code",
   "execution_count": 2,
   "metadata": {},
   "outputs": [],
   "source": [
    "import numpy.random as np\n",
    "import matplotlib.pyplot as plt"
   ]
  },
  {
   "cell_type": "markdown",
   "metadata": {},
   "source": [
    "## 2: Simple Random Data\n",
    "This is a set of ten (10) functions that are effectively shortcuts to generating data of certain types[2]. What this means will become clear as we progress through some of the functions and display the returned data.\n",
    "\n",
    "numPy allows the data analyst to quickly generate pseudo-random data, of different types and sizes, very quickly in order to perform analysis and testing.\n",
    "Examples below:\n",
    "\n",
    "**numpy.random.rand** [6]\n",
    "This function provides a sample of random data of the required size, in the required number of dimensions, starting at just a single random float value, where no parameters are provided. **Note:** all floats returned are of **uniform** distribution over the half-closed interval `[0, 1)` [7]\n"
   ]
  },
  {
   "cell_type": "code",
   "execution_count": 7,
   "metadata": {},
   "outputs": [
    {
     "data": {
      "text/plain": [
       "0.9501540460647071"
      ]
     },
     "execution_count": 7,
     "metadata": {},
     "output_type": "execute_result"
    }
   ],
   "source": [
    "# no parameter - single random float\n",
    "np.rand()"
   ]
  },
  {
   "cell_type": "code",
   "execution_count": 8,
   "metadata": {},
   "outputs": [
    {
     "data": {
      "text/plain": [
       "array([ 0.94005716,  0.25617496,  0.61828104,  0.10641303,  0.59613252])"
      ]
     },
     "execution_count": 8,
     "metadata": {},
     "output_type": "execute_result"
    }
   ],
   "source": [
    "# one parameter - 1-d array of specified size, of random floats \n",
    "np.rand(5)"
   ]
  },
  {
   "cell_type": "code",
   "execution_count": 9,
   "metadata": {},
   "outputs": [
    {
     "data": {
      "text/plain": [
       "array([[ 0.71680369,  0.6402759 ],\n",
       "       [ 0.84748389,  0.15577018],\n",
       "       [ 0.5519032 ,  0.37745929],\n",
       "       [ 0.47032993,  0.74902666],\n",
       "       [ 0.90480937,  0.08572614]])"
      ]
     },
     "execution_count": 9,
     "metadata": {},
     "output_type": "execute_result"
    }
   ],
   "source": [
    "# two parameters - 2-d array of specified size, of random floats \n",
    "np.rand(5,2)"
   ]
  },
  {
   "cell_type": "code",
   "execution_count": 11,
   "metadata": {},
   "outputs": [
    {
     "data": {
      "text/plain": [
       "array([[[ 0.16572458,  0.26337285,  0.10753842,  0.44184371],\n",
       "        [ 0.46344148,  0.64475094,  0.70647038,  0.0681807 ]],\n",
       "\n",
       "       [[ 0.17016692,  0.05303173,  0.72237309,  0.41426869],\n",
       "        [ 0.5431961 ,  0.98532211,  0.45017813,  0.17744419]],\n",
       "\n",
       "       [[ 0.27665392,  0.00253606,  0.59169178,  0.73541196],\n",
       "        [ 0.49776147,  0.96451248,  0.92103423,  0.26689585]],\n",
       "\n",
       "       [[ 0.60754032,  0.43908746,  0.80627451,  0.60464724],\n",
       "        [ 0.71464771,  0.47543379,  0.07181356,  0.76525787]],\n",
       "\n",
       "       [[ 0.76328403,  0.20746568,  0.89008778,  0.07624555],\n",
       "        [ 0.19915214,  0.07089317,  0.55145077,  0.90625969]]])"
      ]
     },
     "execution_count": 11,
     "metadata": {},
     "output_type": "execute_result"
    }
   ],
   "source": [
    "# three parameters - 3-d array of specified size, of random floats \n",
    "np.rand(5,2,4)"
   ]
  },
  {
   "cell_type": "markdown",
   "metadata": {},
   "source": [
    "**numpy.random.randn** performs similar function to rand, however the returned data is distributed **normally**, which means that statistical concepts like **central tendency** and **variance** come into play. Simply put, in a **Normal** distribution, all values are clustered around one central/average value. The vast majority of data will be found close to the central value. The further away from that average value we travel in either direction, the less data we will encounter.\n",
    "\n",
    "For example:"
   ]
  },
  {
   "cell_type": "code",
   "execution_count": 14,
   "metadata": {},
   "outputs": [
    {
     "data": {
      "text/plain": [
       "(array([   4.,   24.,   64.,  141.,  217.,  229.,  183.,  101.,   32.,    5.]),\n",
       " array([-3.12151042, -2.51769348, -1.91387654, -1.3100596 , -0.70624265,\n",
       "        -0.10242571,  0.50139123,  1.10520817,  1.70902511,  2.31284205,\n",
       "         2.91665899]),\n",
       " <a list of 10 Patch objects>)"
      ]
     },
     "execution_count": 14,
     "metadata": {},
     "output_type": "execute_result"
    },
    {
     "data": {
      "image/png": "[encoded data removed]",
      "text/plain": [
       "<matplotlib.figure.Figure at 0x113a31518>"
      ]
     },
     "metadata": {
      "needs_background": "light"
     },
     "output_type": "display_data"
    }
   ],
   "source": [
    "# plot a histogram of a random selection of 1000 floats across the standard normal distribution (centred around zero with standard deviation of 1)\n",
    "plt.hist(np.randn(1000))"
   ]
  },
  {
   "cell_type": "markdown",
   "metadata": {},
   "source": [
    "The above histogram clearly shows that the bulk of the randomly generated data is clustered on or closeby the zero value. As the graph moves away from zero, in both the positive and negative directions, there is less and less data displayed.\n",
    "\n",
    "Other functions in the **Simple Random Data** are more basic and generally return a random sample of either float, integer, or byte values."
   ]
  },
  {
   "cell_type": "markdown",
   "metadata": {},
   "source": [
    "## 3: Permutations"
   ]
  },
  {
   "cell_type": "markdown",
   "metadata": {},
   "source": [
    "In Mathematics, **permutations** are a way of **counting** the number of different ways that a list of numbers can be arranged, in different orders.\n",
    "\n",
    "For example, in the list {1, 2, 3}, how many different ways can we arrange the three numbers?\n",
    "**Answer**\n",
    "- 1, 2, 3\n",
    "- 1, 3, 2\n",
    "- 2, 1, 3\n",
    "- 2, 3, 1\n",
    "- 3, 1, 2\n",
    "- 3, 2, 1"
   ]
  },
  {
   "cell_type": "code",
   "execution_count": null,
   "metadata": {},
   "outputs": [],
   "source": []
  },
  {
   "cell_type": "code",
   "execution_count": null,
   "metadata": {},
   "outputs": [],
   "source": []
  },
  {
   "cell_type": "markdown",
   "metadata": {},
   "source": [
    "this is a text part of my notebook\n",
    "# Heading\n",
    "Opening paragraph blah blah\n",
    "## Smaller Heading\n",
    "Opening music radio gaga\n",
    "\n",
    "### Smaller Heading\n",
    "\n",
    "*italics*\n",
    "**bold**\n"
   ]
  },
  {
   "cell_type": "code",
   "execution_count": null,
   "metadata": {},
   "outputs": [],
   "source": []
  },
  {
   "cell_type": "code",
   "execution_count": null,
   "metadata": {},
   "outputs": [],
   "source": []
  },
  {
   "cell_type": "markdown",
   "metadata": {},
   "source": [
    "## References:\n",
    "**[1]:** *https://en.wikipedia.org/wiki/NumPy*\n",
    "\n",
    "**[2]** *www.numpy.org*\n",
    "\n",
    "**[3]:** *https://docs.scipy.org/doc/numpy-1.15.1/reference/arrays.ndarray.html*\n",
    "\n",
    "**[4]:** *https://docs.scipy.org/doc/numpy-1.13.0/reference/routines.random.html*\n",
    "\n",
    "**[5]:** *https://www.labri.fr/perso/nrougier/teaching/numpy/numpy.html#introduction*\n",
    "\n",
    "**[6]:** *https://docs.scipy.org/doc/numpy-1.15.1/reference/generated/numpy.random.rand.html#numpy.random.rand*\n",
    "\n",
    "**[7]:** *http://mathworld.wolfram.com/Half-ClosedInterval.html*\n",
    "\n",
    "**[8]:** *Reference 7*"
   ]
  },
  {
   "cell_type": "code",
   "execution_count": null,
   "metadata": {},
   "outputs": [],
   "source": []
  }
 ],
 "metadata": {
  "kernelspec": {
   "display_name": "Python 3",
   "language": "python",
   "name": "python3"
  },
  "language_info": {
   "codemirror_mode": {
    "name": "ipython",
    "version": 3
   },
   "file_extension": ".py",
   "mimetype": "text/x-python",
   "name": "python",
   "nbconvert_exporter": "python",
   "pygments_lexer": "ipython3",
   "version": "3.6.6"
  }
 },
 "nbformat": 4,
 "nbformat_minor": 2
}
