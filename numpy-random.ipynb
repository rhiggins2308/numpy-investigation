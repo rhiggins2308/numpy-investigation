{
 "cells": [
  {
   "cell_type": "markdown",
   "metadata": {},
   "source": [
    "# The numPy.random Library\n",
    "---------------------------------------------\n",
    "\n",
    "## Here follows an investigation into the numPy.random library\n",
    "\n",
    "After a brief introduction to **numPy**, explaining:\n",
    "* what is numPy\n",
    "* why is it so useful\n",
    "\n",
    "\n",
    "we will zoom in to the **numpy.random** package to examine some of the **functionality**, namely:\n",
    "* Simple Random Data\n",
    "* Permutations\n",
    "\n",
    "\n",
    "Further to this, we will then look into some examples of the various numpy **distributions**:\n",
    "* Some explanatory introduction and **visualisation**\n",
    "* Where and how they are used in **Mathematics, Statistics and Probability**\n",
    "* How this relates back to **coding and data analysis**\n",
    "\n",
    "\n",
    "Finally, we will discuss **seeding** within the numpy.random\n",
    "* Can Python really generate random numbers?\n",
    "* How to Python \"random\" numbers work?\n",
    "* Is there pattern to Python randomness?\n"
   ]
  },
  {
   "cell_type": "markdown",
   "metadata": {},
   "source": [
    "## 1: numPy & numpy.random\n",
    "\n",
    "### What is numPy?\n",
    "NumPy is an open-source library for Python, that is used for scientific computing and data analysis.[1] While the numPy library contains a number of facilities, including specialised mathematical functions and integration tools for C/C++/Fortran code [2], it's most attractive function is that it introduces a multi-dimensional array object, making it very easy to store, investigate and manipulate extremely large data sets [5].\n",
    "\n",
    "More detailed information on all of the above can be found at www.numpy.org.\n",
    "This document will focus on more detail on one particular area of the numpy package, namely Random Sampling.\n",
    "\n",
    "### Simple Random Sampling\n",
    "In a mathematical sense, before we can begin to analyse any dataset, we must be sure that it is valid data.\n",
    "Statistically, this means ensuring that the dataset we are working on, accurately represents the larger group of people or things, that we want to make analytical statements or draw conclusions on.\n",
    "\n",
    "One of the cornerstones of any statistical analysis is the assumption that the data being analysed is random. Without going into too much detail on the mathematical concepts around this, we are trying to eliminate bias within our dataset and the best way to do this is by randomly selecting a sample of data from the population.\n",
    "\n",
    "A simple example might be if I want to use a small sample of shoppers to draw conclusions about the nations' favourite supermarket. If I stand outside a Tesco store and ask people as they enter the store, \"What is your favourite supermarket?\", the chances are high that they will answer \"Tesco\". This will skew my dataset towards one particular answer and therefore, my data is not randomly selected due to my method of generation.\n",
    "\n",
    "### numpy.random\n",
    "The **numpy.random** package is concerned with the generation of various types of random data, for analysis. \n",
    "\n",
    "The package is broken down into four (4) distinct areas. We will now look into the detail of each of these areas, using some code snippets and visualisations to demonstrate.\n",
    "\n",
    "As with all python packages, we must import before we can use within our code:"
   ]
  },
  {
   "cell_type": "code",
   "execution_count": 2,
   "metadata": {},
   "outputs": [],
   "source": [
    "import numpy.random as np\n",
    "import matplotlib.pyplot as plt"
   ]
  },
  {
   "cell_type": "markdown",
   "metadata": {},
   "source": [
    "## 2: Simple Random Data\n",
    "This is a set of ten (10) functions that are effectively shortcuts to generating data of certain types[2]. What this means will become clear as we progress through some of the functions and display the returned data.\n",
    "\n",
    "numPy allows the data analyst to quickly generate pseudo-random data, of different types and sizes, very quickly in order to perform analysis and testing.\n",
    "\n",
    "Examples below:\n",
    "\n",
    "**numpy.random.rand** [6]\n",
    "This function provides a sample of random data of the required size, in the required number of dimensions, starting at just a single random float value, where no parameters are provided. **Note:** all floats returned are of **uniform** distribution over the half-closed interval `[0, 1)` [7]\n"
   ]
  },
  {
   "cell_type": "code",
   "execution_count": 20,
   "metadata": {},
   "outputs": [
    {
     "data": {
      "text/plain": [
       "0.9012315281836818"
      ]
     },
     "execution_count": 20,
     "metadata": {},
     "output_type": "execute_result"
    }
   ],
   "source": [
    "# no parameter - single random float\n",
    "np.rand()"
   ]
  },
  {
   "cell_type": "code",
   "execution_count": 27,
   "metadata": {},
   "outputs": [
    {
     "data": {
      "text/plain": [
       "(array([ 2.,  1.,  0.,  0.,  0.,  0.,  0.,  1.,  0.,  1.]),\n",
       " array([ 0.37149998,  0.41526501,  0.45903004,  0.50279507,  0.54656011,\n",
       "         0.59032514,  0.63409017,  0.67785521,  0.72162024,  0.76538527,\n",
       "         0.80915031]),\n",
       " <a list of 10 Patch objects>)"
      ]
     },
     "execution_count": 27,
     "metadata": {},
     "output_type": "execute_result"
    },
    {
     "data": {
      "image/png": "[encoded data removed]",
      "text/plain": [
       "<matplotlib.figure.Figure at 0x1a1eba5cf8>"
      ]
     },
     "metadata": {
      "needs_background": "light"
     },
     "output_type": "display_data"
    }
   ],
   "source": [
    "# one parameter - 1-d array of specified size, of random floats \n",
    "np.rand(5)"
   ]
  },
  {
   "cell_type": "code",
   "execution_count": 32,
   "metadata": {},
   "outputs": [
    {
     "data": {
      "text/plain": [
       "array([[ 0.97983914,  0.59019277],\n",
       "       [ 0.45796767,  0.0182713 ],\n",
       "       [ 0.71057643,  0.17970907],\n",
       "       [ 0.42629256,  0.42377918],\n",
       "       [ 0.43682877,  0.27794493]])"
      ]
     },
     "execution_count": 32,
     "metadata": {},
     "output_type": "execute_result"
    }
   ],
   "source": [
    "# two parameters - 2-d array of specified size, of random floats \n",
    "np.rand(5,2)"
   ]
  },
  {
   "cell_type": "code",
   "execution_count": 31,
   "metadata": {},
   "outputs": [
    {
     "data": {
      "text/plain": [
       "array([[[ 0.86496351,  0.76004704,  0.56775338,  0.70744576],\n",
       "        [ 0.98681186,  0.76320776,  0.16619676,  0.41457544]],\n",
       "\n",
       "       [[ 0.30894029,  0.68106101,  0.33577222,  0.04786008],\n",
       "        [ 0.00641064,  0.51363309,  0.36478217,  0.63770702]],\n",
       "\n",
       "       [[ 0.98244591,  0.08746803,  0.10987473,  0.82674564],\n",
       "        [ 0.3225559 ,  0.2524989 ,  0.6900443 ,  0.77526447]],\n",
       "\n",
       "       [[ 0.72978932,  0.21144916,  0.53098569,  0.01346429],\n",
       "        [ 0.02703318,  0.32543701,  0.55940718,  0.03557249]],\n",
       "\n",
       "       [[ 0.60540936,  0.76949281,  0.17143318,  0.23757917],\n",
       "        [ 0.44024275,  0.12226862,  0.80788026,  0.53960382]]])"
      ]
     },
     "execution_count": 31,
     "metadata": {},
     "output_type": "execute_result"
    }
   ],
   "source": [
    "# three parameters - 3-d array of specified size, of random floats \n",
    "np.rand(5,2,4)"
   ]
  },
  {
   "cell_type": "markdown",
   "metadata": {},
   "source": [
    "**numpy.random.randn** performs similar function to rand, however the returned data is distributed **normally**, which means that statistical concepts like **central tendency** and **variance** come into play. Simply put, in a **Normal** distribution, all values are clustered around one central/average value. The vast majority of data will be found close to the central value. The further away from that average value we travel in either direction, the less data we will encounter.\n",
    "\n",
    "For example:"
   ]
  },
  {
   "cell_type": "code",
   "execution_count": 3,
   "metadata": {},
   "outputs": [
    {
     "data": {
      "text/plain": [
       "(array([   2.,    3.,   21.,   86.,  202.,  274.,  229.,  132.,   39.,   12.]),\n",
       " array([-3.97680427, -3.27743919, -2.57807411, -1.87870903, -1.17934395,\n",
       "        -0.47997887,  0.21938621,  0.91875129,  1.61811637,  2.31748145,\n",
       "         3.01684653]),\n",
       " <a list of 10 Patch objects>)"
      ]
     },
     "execution_count": 3,
     "metadata": {},
     "output_type": "execute_result"
    },
    {
     "data": {
      "image/png": "[encoded data removed]",
      "text/plain": [
       "<matplotlib.figure.Figure at 0x106a64080>"
      ]
     },
     "metadata": {
      "needs_background": "light"
     },
     "output_type": "display_data"
    }
   ],
   "source": [
    "# plot a histogram of a random selection of 1000 floats across the standard normal distribution (centred around zero with standard deviation of 1)\n",
    "plt.hist(np.randn(1000))"
   ]
  },
  {
   "cell_type": "markdown",
   "metadata": {},
   "source": [
    "The above histogram clearly shows that the bulk of the randomly generated data is clustered on or closeby the zero value. As the graph moves away from zero, in both the positive and negative directions, there is less and less data displayed.\n",
    "\n",
    "Other functions in the **Simple Random Data** are more basic and generally return a random sample of either float, integer, or byte values."
   ]
  },
  {
   "cell_type": "markdown",
   "metadata": {},
   "source": [
    "## 3: Permutations"
   ]
  },
  {
   "cell_type": "markdown",
   "metadata": {},
   "source": [
    "In Mathematics, **permutations** are a way of **counting** the number of different ways that a list of numbers can be arranged, in different orders.\n",
    "\n",
    "For example, in the list {1, 2, 3}, how many different ways can we arrange the three numbers?\n",
    "**Answer**\n",
    "- 1, 2, 3\n",
    "- 1, 3, 2\n",
    "- 2, 1, 3\n",
    "- 2, 3, 1\n",
    "- 3, 1, 2\n",
    "- 3, 2, 1"
   ]
  },
  {
   "cell_type": "code",
   "execution_count": null,
   "metadata": {},
   "outputs": [],
   "source": []
  },
  {
   "cell_type": "code",
   "execution_count": null,
   "metadata": {},
   "outputs": [],
   "source": []
  },
  {
   "cell_type": "code",
   "execution_count": null,
   "metadata": {},
   "outputs": [],
   "source": []
  },
  {
   "cell_type": "code",
   "execution_count": null,
   "metadata": {},
   "outputs": [],
   "source": []
  },
  {
   "cell_type": "code",
   "execution_count": null,
   "metadata": {},
   "outputs": [],
   "source": []
  },
  {
   "cell_type": "markdown",
   "metadata": {},
   "source": [
    "## References:\n",
    "**[1]:** *https://en.wikipedia.org/wiki/NumPy*\n",
    "\n",
    "**[2]** *www.numpy.org*\n",
    "\n",
    "**[3]:** *https://docs.scipy.org/doc/numpy-1.15.1/reference/arrays.ndarray.html*\n",
    "\n",
    "**[4]:** *https://docs.scipy.org/doc/numpy-1.13.0/reference/routines.random.html*\n",
    "\n",
    "**[5]:** *https://www.labri.fr/perso/nrougier/teaching/numpy/numpy.html#introduction*\n",
    "\n",
    "**[6]:** *https://docs.scipy.org/doc/numpy-1.15.1/reference/generated/numpy.random.rand.html#numpy.random.rand*\n",
    "\n",
    "**[7]:** *http://mathworld.wolfram.com/Half-ClosedInterval.html*\n",
    "\n",
    "**[8]:** *Reference 7*"
   ]
  },
  {
   "cell_type": "code",
   "execution_count": null,
   "metadata": {},
   "outputs": [],
   "source": []
  }
 ],
 "metadata": {
  "kernelspec": {
   "display_name": "Python 3",
   "language": "python",
   "name": "python3"
  },
  "language_info": {
   "codemirror_mode": {
    "name": "ipython",
    "version": 3
   },
   "file_extension": ".py",
   "mimetype": "text/x-python",
   "name": "python",
   "nbconvert_exporter": "python",
   "pygments_lexer": "ipython3",
   "version": "3.6.6"
  }
 },
 "nbformat": 4,
 "nbformat_minor": 2
}
