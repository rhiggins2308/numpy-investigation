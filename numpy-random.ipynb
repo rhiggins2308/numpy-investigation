{
 "cells": [
  {
   "cell_type": "markdown",
   "metadata": {},
   "source": [
    "# The numPy.random Library\n",
    "---------------------------------------------\n",
    "\n",
    "## Here follows an investigation into the numPy.random library\n",
    "\n",
    "After a brief introduction to **numPy**, explaining:\n",
    "* what is numPy\n",
    "* why is it so useful\n",
    "\n",
    "\n",
    "we will zoom in to the **numpy.random** package to examine some of the **functionality**, namely:\n",
    "* Simple Random Data\n",
    "* Permutations\n",
    "\n",
    "\n",
    "Further to this, we will then look into some examples of the various numpy **distributions**:\n",
    "* Some explanatory introduction and **visualisation**\n",
    "* Where and how they are used in **Mathematics, Statistics and Probability**\n",
    "* How this relates back to **coding and data analysis**\n",
    "\n",
    "\n",
    "Finally, we will discuss **seeding** within the numpy.random package\n",
    "* Can Python really generate random numbers?\n",
    "* How do Python \"random\" numbers work?\n",
    "* Is there pattern to Python randomness?\n"
   ]
  },
  {
   "cell_type": "markdown",
   "metadata": {},
   "source": [
    "## 1: numPy & numpy.random\n",
    "\n",
    "### What is numPy?\n",
    "NumPy is an open-source library for Python, that is used for scientific computing and data analysis.[1] While the numPy library contains a number of facilities, including specialised mathematical functions and integration tools for C/C++/Fortran code [2], it's most attractive function is that it introduces a multi-dimensional array object, making it very easy to store, investigate and manipulate extremely large data sets [5].\n",
    "\n",
    "More detailed information on all of the above can be found at www.numpy.org.\n",
    "This document will focus on more detail on one particular area of the numpy package, namely Random Sampling.\n",
    "\n",
    "### Simple Random Sampling\n",
    "In a mathematical sense, before we can begin to analyse any dataset, we must be sure that it is valid data.\n",
    "Statistically, this means ensuring that the dataset we are working on, accurately represents the larger group of people or things, that we want to make analytical statements or draw conclusions on.\n",
    "\n",
    "One of the cornerstones of any statistical analysis is the assumption that the data being analysed is random. Without going into too much detail on the mathematical concepts around this, we are trying to eliminate bias within our dataset and the best way to do this is by randomly selecting a sample of data from the population.\n",
    "\n",
    "A simple example might be if I want to use a small sample of shoppers to draw conclusions about the nations' favourite supermarket. If I stand outside a Tesco store and ask people as they enter the store, \"What is your favourite supermarket?\", the chances are high that they will answer \"Tesco\". This will skew my dataset towards one particular answer and therefore, my data is not randomly selected due to my method of generation.\n",
    "\n",
    "### numpy.random\n",
    "The **numpy.random** package is concerned with the generation of various types of random data, for analysis. \n",
    "\n",
    "The package is broken down into four (4) distinct areas. We will now look into the detail of each of these areas, using some code snippets and visualisations to demonstrate.\n",
    "\n",
    "As with all python packages, we must import before we can use within our code:"
   ]
  },
  {
   "cell_type": "code",
   "execution_count": 2,
   "metadata": {},
   "outputs": [],
   "source": [
    "import numpy\n",
    "import numpy.random as np\n",
    "import matplotlib.pyplot as plt\n",
    "import pandas as pd\n",
    "import seaborn as sns"
   ]
  },
  {
   "cell_type": "markdown",
   "metadata": {},
   "source": [
    "## 2: Simple Random Data\n",
    "This is a set of ten (10) functions that are effectively shortcuts to generating data of certain types[2]. What this means will become clear as we progress through some of the functions and display the returned data.\n",
    "\n",
    "numPy allows the data analyst to quickly generate pseudo-random data, of different types and sizes, very quickly in order to perform analysis and testing.\n",
    "Examples below:\n",
    "\n",
    "**numpy.random.rand** [6]\n",
    "This function provides a sample of random data of the required size, in the required number of dimensions, starting at just a single random float value, where no parameters are provided. **Note:** all floats returned are of **uniform** distribution over the half-closed interval `[0, 1)` [7]\n"
   ]
  },
  {
   "cell_type": "code",
   "execution_count": 2,
   "metadata": {},
   "outputs": [
    {
     "data": {
      "text/plain": [
       "0.19613999978523333"
      ]
     },
     "execution_count": 2,
     "metadata": {},
     "output_type": "execute_result"
    }
   ],
   "source": [
    "# no parameter - single random float\n",
    "np.rand()"
   ]
  },
  {
   "cell_type": "code",
   "execution_count": 3,
   "metadata": {},
   "outputs": [
    {
     "data": {
      "text/plain": [
       "array([ 0.42016023,  0.3794274 ,  0.16237035,  0.08355572,  0.65669431])"
      ]
     },
     "execution_count": 3,
     "metadata": {},
     "output_type": "execute_result"
    }
   ],
   "source": [
    "# one parameter - 1-d array of specified size, of random floats \n",
    "np.rand(5)"
   ]
  },
  {
   "cell_type": "code",
   "execution_count": 4,
   "metadata": {},
   "outputs": [
    {
     "data": {
      "text/plain": [
       "array([[ 0.17405806,  0.92127993,  0.3183293 ,  0.2240192 ,  0.8236558 ],\n",
       "       [ 0.15737233,  0.3877564 ,  0.12583961,  0.31333106,  0.74247589]])"
      ]
     },
     "execution_count": 4,
     "metadata": {},
     "output_type": "execute_result"
    }
   ],
   "source": [
    "# two parameters - 2-d array of specified size, of random floats \n",
    "np.rand(2,5)"
   ]
  },
  {
   "cell_type": "code",
   "execution_count": 5,
   "metadata": {},
   "outputs": [
    {
     "data": {
      "text/html": [
       "<div>\n",
       "<style>\n",
       "    .dataframe thead tr:only-child th {\n",
       "        text-align: right;\n",
       "    }\n",
       "\n",
       "    .dataframe thead th {\n",
       "        text-align: left;\n",
       "    }\n",
       "\n",
       "    .dataframe tbody tr th {\n",
       "        vertical-align: top;\n",
       "    }\n",
       "</style>\n",
       "<table border=\"1\" class=\"dataframe\">\n",
       "  <thead>\n",
       "    <tr style=\"text-align: right;\">\n",
       "      <th></th>\n",
       "      <th>A</th>\n",
       "      <th>B</th>\n",
       "      <th>C</th>\n",
       "      <th>D</th>\n",
       "      <th>E</th>\n",
       "    </tr>\n",
       "  </thead>\n",
       "  <tbody>\n",
       "    <tr>\n",
       "      <th>0</th>\n",
       "      <td>0.637197</td>\n",
       "      <td>0.358312</td>\n",
       "      <td>0.255779</td>\n",
       "      <td>0.694531</td>\n",
       "      <td>0.94223</td>\n",
       "    </tr>\n",
       "    <tr>\n",
       "      <th>1</th>\n",
       "      <td>0.840489</td>\n",
       "      <td>0.555323</td>\n",
       "      <td>0.978565</td>\n",
       "      <td>0.277365</td>\n",
       "      <td>0.40293</td>\n",
       "    </tr>\n",
       "  </tbody>\n",
       "</table>\n",
       "</div>"
      ],
      "text/plain": [
       "          A         B         C         D        E\n",
       "0  0.637197  0.358312  0.255779  0.694531  0.94223\n",
       "1  0.840489  0.555323  0.978565  0.277365  0.40293"
      ]
     },
     "execution_count": 5,
     "metadata": {},
     "output_type": "execute_result"
    }
   ],
   "source": [
    "# We can also use pandas dataframes to store and display our random data in a more structured, usable form\n",
    "dataset = np.rand(2, 5)\n",
    "pd.DataFrame(dataset, columns=[\"A\", \"B\", \"C\",\"D\", \"E\"])"
   ]
  },
  {
   "cell_type": "code",
   "execution_count": 6,
   "metadata": {},
   "outputs": [
    {
     "data": {
      "text/plain": [
       "array([[[ 0.07807605,  0.30351839,  0.0571111 ,  0.74444001],\n",
       "        [ 0.68839914,  0.83253728,  0.44064423,  0.5562338 ]],\n",
       "\n",
       "       [[ 0.75335899,  0.0648599 ,  0.06506701,  0.04008544],\n",
       "        [ 0.74486872,  0.47371189,  0.88593287,  0.58600914]],\n",
       "\n",
       "       [[ 0.32881467,  0.93517062,  0.8510555 ,  0.07950733],\n",
       "        [ 0.8140881 ,  0.18050674,  0.09210791,  0.35853193]],\n",
       "\n",
       "       [[ 0.39735407,  0.4860963 ,  0.2026072 ,  0.70024281],\n",
       "        [ 0.86133786,  0.5485623 ,  0.15093876,  0.84760923]],\n",
       "\n",
       "       [[ 0.8883724 ,  0.62494254,  0.89071263,  0.85279935],\n",
       "        [ 0.83210813,  0.02960678,  0.30344283,  0.38278865]]])"
      ]
     },
     "execution_count": 6,
     "metadata": {},
     "output_type": "execute_result"
    }
   ],
   "source": [
    "# three parameters - 3-d array of specified size, of random floats \n",
    "np.rand(5,2,4)"
   ]
  },
  {
   "cell_type": "markdown",
   "metadata": {},
   "source": [
    "**numpy.random.randn** performs similar function to rand, however the returned data is distributed **normally**, which means that statistical concepts like **central tendency** and **variance** come into play. Simply put, in a **Normal** distribution, all values are clustered around one central/average value. The vast majority of data will be found close to the central value. The further away from that average value we travel in either direction, the less data we will encounter.\n",
    "\n",
    "Below is an example of the above. You are invited to tinker with the parameter of the randn function and observe what happens as the sample size is decreased or increased.\n",
    "\n",
    "Hopefully you will see that, while the sample size is very small the visualisation of the data seems quite scattered and unorganised. But as the sample size increases, you will see that the data seems to organise itself around one central/average value in a bell-shaped curve. This is the Normal Distribution."
   ]
  },
  {
   "cell_type": "code",
   "execution_count": 7,
   "metadata": {},
   "outputs": [
    {
     "data": {
      "text/plain": [
       "(array([   2.,    8.,   68.,  224.,  439.,  565.,  435.,  189.,   62.,    8.]),\n",
       " array([-3.84088003, -3.13285736, -2.4248347 , -1.71681203, -1.00878936,\n",
       "        -0.3007667 ,  0.40725597,  1.11527864,  1.82330131,  2.53132397,\n",
       "         3.23934664]),\n",
       " <a list of 10 Patch objects>)"
      ]
     },
     "execution_count": 7,
     "metadata": {},
     "output_type": "execute_result"
    },
    {
     "data": {
      "image/png": "[encoded data removed]",
      "text/plain": [
       "<matplotlib.figure.Figure at 0x10b15dc88>"
      ]
     },
     "metadata": {
      "needs_background": "light"
     },
     "output_type": "display_data"
    }
   ],
   "source": [
    "# plot a histogram of a random selection of 1000 floats across the standard normal distribution\n",
    "# (centred around zero with standard deviation of 1)\n",
    "plt.hist(np.randn(2000))"
   ]
  },
  {
   "cell_type": "markdown",
   "metadata": {},
   "source": [
    "The above histogram (assuming a sufficiently large sample size) clearly shows that the bulk of the randomly generated data is clustered on or closeby the zero value. As the graph moves away from zero, in both the positive and negative directions, there is less and less data displayed.\n",
    "\n",
    "Other functions in the **Simple Random Data** are more basic and generally return a random sample of either float, integer, or byte values."
   ]
  },
  {
   "cell_type": "markdown",
   "metadata": {},
   "source": [
    "## 3: Permutations"
   ]
  },
  {
   "cell_type": "markdown",
   "metadata": {},
   "source": [
    "In Mathematics, **permutations** are a way of **counting** the number of different ways that a list of numbers can be arranged, in different orders.\n",
    "\n",
    "For example, in the list {1, 2, 3}, how many different ways can we arrange the three numbers?\n",
    "**Answer**\n",
    "- 1, 2, 3\n",
    "- 1, 3, 2\n",
    "- 2, 1, 3\n",
    "- 2, 3, 1\n",
    "- 3, 1, 2\n",
    "- 3, 2, 1\n",
    "\n",
    "Each one of the above is a permutation of the elements {1, 2, 3}. There are 6 unique permutations of 3 elements. This is the most basic level of mathematical permutation and it can get quite complicated, so in the interest of simplicity, we will move on to look at the **numpy.random** functions relevant to this concept.\n",
    "\n",
    "### numpy.random.shuffle vs numpy.random.permutation [4]\n",
    "On the face of it, both of these numpy functions perform the same action. However, there is one subtle difference between the two. To demonstrate, let's generate a simple ordered array of numbers, and see how each function behaves when operating on the array."
   ]
  },
  {
   "cell_type": "code",
   "execution_count": 8,
   "metadata": {},
   "outputs": [
    {
     "data": {
      "text/plain": [
       "array([0, 1, 2, 3, 4, 5, 6, 7, 8])"
      ]
     },
     "execution_count": 8,
     "metadata": {},
     "output_type": "execute_result"
    }
   ],
   "source": [
    "arr = numpy.arange(9)\n",
    "arr"
   ]
  },
  {
   "cell_type": "code",
   "execution_count": 9,
   "metadata": {},
   "outputs": [
    {
     "data": {
      "text/plain": [
       "array([5, 2, 1, 8, 0, 4, 7, 6, 3])"
      ]
     },
     "execution_count": 9,
     "metadata": {},
     "output_type": "execute_result"
    }
   ],
   "source": [
    "np.permutation(arr)"
   ]
  },
  {
   "cell_type": "code",
   "execution_count": 10,
   "metadata": {},
   "outputs": [
    {
     "data": {
      "text/plain": [
       "array([0, 1, 2, 3, 4, 5, 6, 7, 8])"
      ]
     },
     "execution_count": 10,
     "metadata": {},
     "output_type": "execute_result"
    }
   ],
   "source": [
    "arr"
   ]
  },
  {
   "cell_type": "markdown",
   "metadata": {},
   "source": [
    "Note above that when we **permute** arr, we are given back a random permutation of the original array. When we want to use the original array again, it **remains in it's original order**.\n",
    "So **permutation** makes a temporary copy of arr, permutes it and returns the result. The original arr remains unaltered."
   ]
  },
  {
   "cell_type": "code",
   "execution_count": 11,
   "metadata": {},
   "outputs": [
    {
     "data": {
      "text/plain": [
       "array([5, 1, 0, 7, 3, 8, 4, 6, 2])"
      ]
     },
     "execution_count": 11,
     "metadata": {},
     "output_type": "execute_result"
    }
   ],
   "source": [
    "np.shuffle(arr)\n",
    "arr"
   ]
  },
  {
   "cell_type": "markdown",
   "metadata": {},
   "source": [
    "On the other hand, when we **shuffle** arr, this has the effect of permuting the order of the elements, within the original array, thereby changing the order of the original arr, as above."
   ]
  },
  {
   "cell_type": "markdown",
   "metadata": {},
   "source": [
    "## Distributions"
   ]
  },
  {
   "cell_type": "markdown",
   "metadata": {},
   "source": [
    "### Normal and Student's t distributions\n",
    "As mentioned earlier in this notebook, the **Normal** is one in which the data follows a particular pattern of the bell-shaped curve. The vast majority of the data clusters around a central value (**mean** average) and as we travel away from that value, the data count decreases dramatically. The **empirical rule** states that 99.7% of data will be within 3 standard deviations of the mean value. All of this, of course, only applies when the sample data size is sufficiently large.\n",
    "\n",
    "To see this in action, the below plot shows a dataset of 200 points, alongside a dataset of 10 points:"
   ]
  },
  {
   "cell_type": "code",
   "execution_count": 31,
   "metadata": {},
   "outputs": [
    {
     "data": {
      "image/png": "[encoded data removed]",
      "text/plain": [
       "<matplotlib.figure.Figure at 0x1a1a6fdc18>"
      ]
     },
     "metadata": {
      "needs_background": "light"
     },
     "output_type": "display_data"
    }
   ],
   "source": [
    "a = np.normal(0, 1, 200)\n",
    "b = np.normal(5, 1, 10)\n",
    "\n",
    "# blue plot\n",
    "sns.distplot(a)\n",
    "\n",
    "# orange plot\n",
    "sns.distplot(b)\n",
    "\n",
    "plt.title(\"Normal Large vs Small Samples\")\n",
    "plt.show()"
   ]
  },
  {
   "cell_type": "markdown",
   "metadata": {},
   "source": [
    "In mathematical terms, a \"large\" dataset is one consisting of at least 30 data points. You can see that when we go below this size, the data is not normally distributed.\n",
    "Normally distributed data is easy to work with, so we encounter a problem when we need to work with data that is not normally distributed.\n",
    "The Student's t distribution provides a way of mathematically transforming small sample data into a normally distributed format, thus allowing us to work on it as normal (pardon the pun!)\n",
    "\n",
    "If we run the same plots as above, only this time using the student's t distribution for the small sample, we can observe this transformation at work."
   ]
  },
  {
   "cell_type": "code",
   "execution_count": 18,
   "metadata": {},
   "outputs": [
    {
     "data": {
      "image/png": "[encoded data removed]",
      "text/plain": [
       "<matplotlib.figure.Figure at 0x1a20130550>"
      ]
     },
     "metadata": {
      "needs_background": "light"
     },
     "output_type": "display_data"
    }
   ],
   "source": [
    "a = np.normal(5, 1, 200)\n",
    "b = np.standard_t(1, 20)\n",
    "\n",
    "# blue plot\n",
    "sns.distplot(a)\n",
    "\n",
    "# orange plot\n",
    "sns.distplot(b)\n",
    "\n",
    "plt.title(\"Standard Normal Large vs Student's t\")\n",
    "plt.show()"
   ]
  },
  {
   "cell_type": "markdown",
   "metadata": {},
   "source": [
    "### Chi Square Distribution\n",
    "The chi square distribution is again related to the Normal distribution. We essentially sample a variable from the standard normal distribution and square that value. This distribution is generally used when testing relationships between categorical variables [8]. We increase the degrees of freedom used with the distribution, in line with the number of variables we are sampling."
   ]
  },
  {
   "cell_type": "code",
   "execution_count": 21,
   "metadata": {},
   "outputs": [
    {
     "data": {
      "image/png": "[encoded data removed]",
      "text/plain": [
       "<matplotlib.figure.Figure at 0x1a200cbb38>"
      ]
     },
     "metadata": {
      "needs_background": "light"
     },
     "output_type": "display_data"
    }
   ],
   "source": [
    "a = np.chisquare(1, 100)\n",
    "b = np.chisquare(2, 100)\n",
    "c = np.chisquare(3, 100)\n",
    "d = np.chisquare(4, 100)\n",
    "\n",
    "sns.distplot(a) # blue plot\n",
    "sns.distplot(b) # orange plot\n",
    "sns.distplot(c) # green plot\n",
    "sns.distplot(d) # red plot\n",
    "\n",
    "plt.title(\"Chi Square with various degrees of freedom\")\n",
    "plt.show()"
   ]
  },
  {
   "cell_type": "markdown",
   "metadata": {},
   "source": [
    "### Binomial, Negative Binomial and Geometric Distributions\n",
    "The Binomial Distribution is based on the outcomes of trials involving only a win/lose outcome. These are known as <a href=\"http://www.mathwords.com/b/bernoulli_trials.htm\">Bernoulli trials</a>.\n",
    "\n",
    "It describes the probability distribution of the number of **successful outcomes** from a fixed number n of trials each having a probability p of success and a probability (1 - p) of failure [9].\n",
    "\n",
    "Where the *Binomial distribution* focuses on the number of **successes** as the variable, with n being a fixed number of trials involved, the *Negative Binomial Distribution* is concerned with the probability of get a specific success in the order of successes (i.e. the fifth, or eighth success), from a fixed number of trials n.\n",
    "\n",
    "The *Geometric Distribution* is a special case of the more general *Negative Binomial*, that is specifically concerned with the **first success** and the number of trials needed to get it [10]."
   ]
  },
  {
   "cell_type": "code",
   "execution_count": 29,
   "metadata": {},
   "outputs": [
    {
     "data": {
      "image/png": "[encoded data removed]",
      "text/plain": [
       "<matplotlib.figure.Figure at 0x1a17480470>"
      ]
     },
     "metadata": {
      "needs_background": "light"
     },
     "output_type": "display_data"
    }
   ],
   "source": [
    "# 1000 samples of experiments containing 100 Bernoulli trials with probability of success 0.3\n",
    "a = np.binomial(100, 0.3, 1000)\n",
    "\n",
    "sns.distplot(a) # blue plot\n",
    "\n",
    "plt.title(\"Binomial Distribution\")\n",
    "plt.show()"
   ]
  },
  {
   "cell_type": "code",
   "execution_count": 33,
   "metadata": {},
   "outputs": [
    {
     "data": {
      "image/png": "[encoded data removed]",
      "text/plain": [
       "<matplotlib.figure.Figure at 0x1107b66d8>"
      ]
     },
     "metadata": {
      "needs_background": "light"
     },
     "output_type": "display_data"
    }
   ],
   "source": [
    "b = np.negative_binomial(100, 0.3, 1000)\n",
    "# c = np.geometric(0.3, 1000)\n",
    "\n",
    "sns.distplot(b) # orange plot\n",
    "# sns.distplot(c) # green plot\n",
    "\n",
    "plt.title(\"Negative Binomial Distribution\")\n",
    "plt.show()"
   ]
  },
  {
   "cell_type": "code",
   "execution_count": 32,
   "metadata": {},
   "outputs": [
    {
     "data": {
      "image/png": "[encoded data removed]",
      "text/plain": [
       "<matplotlib.figure.Figure at 0x110e1ca20>"
      ]
     },
     "metadata": {
      "needs_background": "light"
     },
     "output_type": "display_data"
    }
   ],
   "source": [
    "c = np.geometric(0.3, 1000)\n",
    "\n",
    "sns.distplot(c) # green plot\n",
    "\n",
    "plt.title(\"Geometric Distribution\")\n",
    "plt.show()"
   ]
  },
  {
   "cell_type": "markdown",
   "metadata": {},
   "source": [
    "## References:\n",
    "**[1]:** *https://en.wikipedia.org/wiki/NumPy*\n",
    "\n",
    "**[2]** *www.numpy.org*\n",
    "\n",
    "**[3]:** *https://docs.scipy.org/doc/numpy-1.15.1/reference/arrays.ndarray.html*\n",
    "\n",
    "**[4]:** *https://docs.scipy.org/doc/numpy-1.15.1/reference/routines.random.html*\n",
    "\n",
    "**[5]:** *https://www.labri.fr/perso/nrougier/teaching/numpy/numpy.html#introduction*\n",
    "\n",
    "**[6]:** *https://docs.scipy.org/doc/numpy-1.15.1/reference/generated/numpy.random.rand.html#numpy.random.rand*\n",
    "\n",
    "**[7]:** *http://mathworld.wolfram.com/Half-ClosedInterval.html*\n",
    "\n",
    "**[8]:** *https://www.statisticssolutions.com/using-chi-square-statistic-in-research/*\n",
    "\n",
    "**[9]:** *http://www.hamilton.ie/ollie/EE304/Binom.pdf*\n",
    "\n",
    "**[10]:** *https://www.youtube.com/watch?v=BPlmjp2ymxw*"
   ]
  },
  {
   "cell_type": "code",
   "execution_count": null,
   "metadata": {},
   "outputs": [],
   "source": []
  }
 ],
 "metadata": {
  "kernelspec": {
   "display_name": "Python 3",
   "language": "python",
   "name": "python3"
  },
  "language_info": {
   "codemirror_mode": {
    "name": "ipython",
    "version": 3
   },
   "file_extension": ".py",
   "mimetype": "text/x-python",
   "name": "python",
   "nbconvert_exporter": "python",
   "pygments_lexer": "ipython3",
   "version": "3.6.6"
  }
 },
 "nbformat": 4,
 "nbformat_minor": 2
}
