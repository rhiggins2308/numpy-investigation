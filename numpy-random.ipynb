{
 "cells": [
  {
   "cell_type": "markdown",
   "metadata": {},
   "source": [
    "# The numPy.random Library\n",
    "---------------------------------------------\n",
    "\n",
    "## Here follows an investigation into the numPy.random library\n",
    "\n",
    "After a brief introduction to **numPy**, explaining:\n",
    "* what is numPy\n",
    "* why is it so useful\n",
    "\n",
    "\n",
    "we will zoom in to the **numpy.random** package to examine some of the **functionality**, namely:\n",
    "* Simple Random Data\n",
    "* Permutations\n",
    "\n",
    "\n",
    "Further to this, we will then look into some examples of the various numpy **distributions**:\n",
    "* Some explanatory introduction and **visualisation**\n",
    "* Where and how they are used in **Mathematics, Statistics and Probability**\n",
    "* How this relates back to **coding and data analysis**\n",
    "\n",
    "\n",
    "Finally, we will discuss **seeding** within the numpy.random package\n",
    "* Can Python really generate random numbers?\n",
    "* How do Python \"random\" numbers work?\n",
    "* Is there pattern to Python randomness?\n"
   ]
  },
  {
   "cell_type": "markdown",
   "metadata": {},
   "source": [
    "## 1: numPy & numpy.random\n",
    "\n",
    "### What is numPy?\n",
    "NumPy is an open-source library for Python, that is used for scientific computing and data analysis.[1] While the numPy library contains a number of facilities, including specialised mathematical functions and integration tools for C/C++/Fortran code [2], it's most attractive function is that it introduces a multi-dimensional array object, making it very easy to store, investigate and manipulate extremely large data sets [5].\n",
    "\n",
    "More detailed information on all of the above can be found at www.numpy.org.\n",
    "This document will focus on more detail on one particular area of the numpy package, namely Random Sampling.\n",
    "\n",
    "### Simple Random Sampling\n",
    "In a mathematical sense, before we can begin to analyse any dataset, we must be sure that it is valid data.\n",
    "Statistically, this means ensuring that the dataset we are working on, accurately represents the larger group of people or things, that we want to make analytical statements or draw conclusions on.\n",
    "\n",
    "One of the cornerstones of any statistical analysis is the assumption that the data being analysed is random. Without going into too much detail on the mathematical concepts around this, we are trying to eliminate bias within our dataset and the best way to do this is by randomly selecting a sample of data from the population.\n",
    "\n",
    "A simple example might be if I want to use a small sample of shoppers to draw conclusions about the nations' favourite supermarket. If I stand outside a Tesco store and ask people as they enter the store, \"What is your favourite supermarket?\", the chances are high that they will answer \"Tesco\". This will skew my dataset towards one particular answer and therefore, my data is not randomly selected due to my method of generation.\n",
    "\n",
    "### numpy.random\n",
    "The **numpy.random** package is concerned with the generation of various types of random data, for analysis. \n",
    "\n",
    "The package is broken down into four (4) distinct areas. We will now look into the detail of each of these areas, using some code snippets and visualisations to demonstrate.\n",
    "\n",
    "As with all python packages, we must import before we can use within our code:"
   ]
  },
  {
   "cell_type": "code",
   "execution_count": 10,
   "metadata": {},
   "outputs": [],
   "source": [
    "import numpy\n",
    "import numpy.random as np\n",
    "import matplotlib.pyplot as plt\n",
    "import pandas as pd"
   ]
  },
  {
   "cell_type": "markdown",
   "metadata": {},
   "source": [
    "## 2: Simple Random Data\n",
    "This is a set of ten (10) functions that are effectively shortcuts to generating data of certain types[2]. What this means will become clear as we progress through some of the functions and display the returned data.\n",
    "\n",
    "numPy allows the data analyst to quickly generate pseudo-random data, of different types and sizes, very quickly in order to perform analysis and testing.\n",
    "Examples below:\n",
    "\n",
    "**numpy.random.rand** [6]\n",
    "This function provides a sample of random data of the required size, in the required number of dimensions, starting at just a single random float value, where no parameters are provided. **Note:** all floats returned are of **uniform** distribution over the half-closed interval `[0, 1)` [7]\n"
   ]
  },
  {
   "cell_type": "code",
   "execution_count": 7,
   "metadata": {},
   "outputs": [
    {
     "data": {
      "text/plain": [
       "0.9501540460647071"
      ]
     },
     "execution_count": 7,
     "metadata": {},
     "output_type": "execute_result"
    }
   ],
   "source": [
    "# no parameter - single random float\n",
    "np.rand()"
   ]
  },
  {
   "cell_type": "code",
   "execution_count": 8,
   "metadata": {},
   "outputs": [
    {
     "data": {
      "text/plain": [
       "array([ 0.94005716,  0.25617496,  0.61828104,  0.10641303,  0.59613252])"
      ]
     },
     "execution_count": 8,
     "metadata": {},
     "output_type": "execute_result"
    }
   ],
   "source": [
    "# one parameter - 1-d array of specified size, of random floats \n",
    "np.rand(5)"
   ]
  },
  {
   "cell_type": "code",
   "execution_count": 4,
   "metadata": {},
   "outputs": [
    {
     "data": {
      "text/plain": [
       "array([[ 0.9181403 ,  0.84143128,  0.42534143,  0.55598684,  0.97310925],\n",
       "       [ 0.57294048,  0.07456239,  0.32498658,  0.33206512,  0.428563  ]])"
      ]
     },
     "execution_count": 4,
     "metadata": {},
     "output_type": "execute_result"
    }
   ],
   "source": [
    "# two parameters - 2-d array of specified size, of random floats \n",
    "np.rand(2,5)"
   ]
  },
  {
   "cell_type": "code",
   "execution_count": 24,
   "metadata": {},
   "outputs": [
    {
     "data": {
      "text/html": [
       "<div>\n",
       "<style>\n",
       "    .dataframe thead tr:only-child th {\n",
       "        text-align: right;\n",
       "    }\n",
       "\n",
       "    .dataframe thead th {\n",
       "        text-align: left;\n",
       "    }\n",
       "\n",
       "    .dataframe tbody tr th {\n",
       "        vertical-align: top;\n",
       "    }\n",
       "</style>\n",
       "<table border=\"1\" class=\"dataframe\">\n",
       "  <thead>\n",
       "    <tr style=\"text-align: right;\">\n",
       "      <th></th>\n",
       "      <th>A</th>\n",
       "      <th>B</th>\n",
       "      <th>C</th>\n",
       "      <th>D</th>\n",
       "      <th>E</th>\n",
       "    </tr>\n",
       "  </thead>\n",
       "  <tbody>\n",
       "    <tr>\n",
       "      <th>0</th>\n",
       "      <td>0.353972</td>\n",
       "      <td>0.801132</td>\n",
       "      <td>0.995965</td>\n",
       "      <td>0.880742</td>\n",
       "      <td>0.606265</td>\n",
       "    </tr>\n",
       "    <tr>\n",
       "      <th>1</th>\n",
       "      <td>0.897584</td>\n",
       "      <td>0.688433</td>\n",
       "      <td>0.577177</td>\n",
       "      <td>0.592336</td>\n",
       "      <td>0.535283</td>\n",
       "    </tr>\n",
       "  </tbody>\n",
       "</table>\n",
       "</div>"
      ],
      "text/plain": [
       "          A         B         C         D         E\n",
       "0  0.353972  0.801132  0.995965  0.880742  0.606265\n",
       "1  0.897584  0.688433  0.577177  0.592336  0.535283"
      ]
     },
     "execution_count": 24,
     "metadata": {},
     "output_type": "execute_result"
    }
   ],
   "source": [
    "# We can also use pandas dataframes to store and display our random data in a more structured, usable form\n",
    "dataset = np.rand(2, 5)\n",
    "pd.DataFrame(dataset, columns=[\"A\", \"B\", \"C\",\"D\", \"E\"])"
   ]
  },
  {
   "cell_type": "code",
   "execution_count": 25,
   "metadata": {},
   "outputs": [
    {
     "data": {
      "text/plain": [
       "array([[[ 0.89111002,  0.34775855,  0.88372462,  0.53145636],\n",
       "        [ 0.28752255,  0.83755534,  0.58155768,  0.26004624]],\n",
       "\n",
       "       [[ 0.24163114,  0.63087532,  0.71538125,  0.15816972],\n",
       "        [ 0.10042484,  0.15683042,  0.66887415,  0.07162561]],\n",
       "\n",
       "       [[ 0.02657541,  0.61811168,  0.72237277,  0.60070076],\n",
       "        [ 0.31538178,  0.39616356,  0.20882017,  0.36462243]],\n",
       "\n",
       "       [[ 0.66119234,  0.5276659 ,  0.06399478,  0.70231699],\n",
       "        [ 0.49585584,  0.97951895,  0.13369908,  0.71932812]],\n",
       "\n",
       "       [[ 0.13302163,  0.60323616,  0.23745206,  0.76184456],\n",
       "        [ 0.07798223,  0.60159504,  0.79676285,  0.61422099]]])"
      ]
     },
     "execution_count": 25,
     "metadata": {},
     "output_type": "execute_result"
    }
   ],
   "source": [
    "# three parameters - 3-d array of specified size, of random floats \n",
    "np.rand(5,2,4)"
   ]
  },
  {
   "cell_type": "markdown",
   "metadata": {},
   "source": [
    "**numpy.random.randn** performs similar function to rand, however the returned data is distributed **normally**, which means that statistical concepts like **central tendency** and **variance** come into play. Simply put, in a **Normal** distribution, all values are clustered around one central/average value. The vast majority of data will be found close to the central value. The further away from that average value we travel in either direction, the less data we will encounter.\n",
    "\n",
    "Below is an example of the above. You are invited to tinker with the parameter of the randn function and observe what happens as the sample size is decreased or increased.\n",
    "\n",
    "Hopefully you will see that, while the sample size is very small the visualisation of the data seems quite scattered and unorganised. But as the sample size increases, you will see that the data seems to organise itself around one central/average value in a bell-shaped curve. This is the Normal Distribution."
   ]
  },
  {
   "cell_type": "code",
   "execution_count": 57,
   "metadata": {},
   "outputs": [
    {
     "data": {
      "text/plain": [
       "(array([  12.,   37.,  179.,  315.,  515.,  508.,  283.,  112.,   30.,    9.]),\n",
       " array([-3.30892739, -2.62622878, -1.94353016, -1.26083155, -0.57813294,\n",
       "         0.10456568,  0.78726429,  1.4699629 ,  2.15266152,  2.83536013,\n",
       "         3.51805874]),\n",
       " <a list of 10 Patch objects>)"
      ]
     },
     "execution_count": 57,
     "metadata": {},
     "output_type": "execute_result"
    },
    {
     "data": {
      "image/png": "[encoded data removed]",
      "text/plain": [
       "<matplotlib.figure.Figure at 0x126aa3710>"
      ]
     },
     "metadata": {
      "needs_background": "light"
     },
     "output_type": "display_data"
    }
   ],
   "source": [
    "# plot a histogram of a random selection of 1000 floats across the standard normal distribution\n",
    "# (centred around zero with standard deviation of 1)\n",
    "plt.hist(np.randn(2000))"
   ]
  },
  {
   "cell_type": "markdown",
   "metadata": {},
   "source": [
    "The above histogram (assuming a sufficiently large sample size) clearly shows that the bulk of the randomly generated data is clustered on or closeby the zero value. As the graph moves away from zero, in both the positive and negative directions, there is less and less data displayed.\n",
    "\n",
    "Other functions in the **Simple Random Data** are more basic and generally return a random sample of either float, integer, or byte values."
   ]
  },
  {
   "cell_type": "markdown",
   "metadata": {},
   "source": [
    "## 3: Permutations"
   ]
  },
  {
   "cell_type": "markdown",
   "metadata": {},
   "source": [
    "In Mathematics, **permutations** are a way of **counting** the number of different ways that a list of numbers can be arranged, in different orders.\n",
    "\n",
    "For example, in the list {1, 2, 3}, how many different ways can we arrange the three numbers?\n",
    "**Answer**\n",
    "- 1, 2, 3\n",
    "- 1, 3, 2\n",
    "- 2, 1, 3\n",
    "- 2, 3, 1\n",
    "- 3, 1, 2\n",
    "- 3, 2, 1\n",
    "\n",
    "Each one of the above is a permutation of the elements {1, 2, 3}. There are 6 unique permutations of 3 elements. This is the most basic level of mathematical permutation and it can get quite complicated, so in the interest of simplicity, we will move on to look at the **numpy.random** functions relevant to this concept.\n",
    "\n",
    "### numpy.random.shuffle vs numpy.random.permutation [4]\n",
    "On the face of it, both of these numpy functions perform the same action. However, there is one subtle difference between the two. To demonstrate, let's generate a simple ordered array of numbers, and see how each function behaves when operating on the array."
   ]
  },
  {
   "cell_type": "code",
   "execution_count": 20,
   "metadata": {},
   "outputs": [
    {
     "data": {
      "text/plain": [
       "array([0, 1, 2, 3, 4, 5, 6, 7, 8])"
      ]
     },
     "execution_count": 20,
     "metadata": {},
     "output_type": "execute_result"
    }
   ],
   "source": [
    "arr = numpy.arange(9)\n",
    "arr"
   ]
  },
  {
   "cell_type": "code",
   "execution_count": 21,
   "metadata": {},
   "outputs": [
    {
     "data": {
      "text/plain": [
       "array([0, 2, 6, 3, 4, 1, 7, 5, 8])"
      ]
     },
     "execution_count": 21,
     "metadata": {},
     "output_type": "execute_result"
    }
   ],
   "source": [
    "np.permutation(arr)"
   ]
  },
  {
   "cell_type": "code",
   "execution_count": 22,
   "metadata": {},
   "outputs": [
    {
     "data": {
      "text/plain": [
       "array([0, 1, 2, 3, 4, 5, 6, 7, 8])"
      ]
     },
     "execution_count": 22,
     "metadata": {},
     "output_type": "execute_result"
    }
   ],
   "source": [
    "arr"
   ]
  },
  {
   "cell_type": "markdown",
   "metadata": {},
   "source": [
    "Note above that when we **permute** arr, we are given back a random permutation of the original array. When we want to use the original array again, it **remains in it's original order**.\n",
    "So **permutation** makes a temporary copy of arr, permutes it and returns the result. The original arr remains unaltered."
   ]
  },
  {
   "cell_type": "code",
   "execution_count": 23,
   "metadata": {},
   "outputs": [
    {
     "data": {
      "text/plain": [
       "array([5, 3, 0, 7, 2, 6, 8, 1, 4])"
      ]
     },
     "execution_count": 23,
     "metadata": {},
     "output_type": "execute_result"
    }
   ],
   "source": [
    "np.shuffle(arr)\n",
    "arr"
   ]
  },
  {
   "cell_type": "markdown",
   "metadata": {},
   "source": [
    "On the other hand, when we **shuffle** arr, this has the effect of permuting the order of the elements, withion the original array, thereby changing the order of the original arr, as above."
   ]
  },
  {
   "cell_type": "code",
   "execution_count": null,
   "metadata": {},
   "outputs": [],
   "source": []
  },
  {
   "cell_type": "code",
   "execution_count": null,
   "metadata": {},
   "outputs": [],
   "source": []
  },
  {
   "cell_type": "code",
   "execution_count": null,
   "metadata": {},
   "outputs": [],
   "source": []
  },
  {
   "cell_type": "code",
   "execution_count": null,
   "metadata": {},
   "outputs": [],
   "source": []
  },
  {
   "cell_type": "code",
   "execution_count": null,
   "metadata": {},
   "outputs": [],
   "source": []
  },
  {
   "cell_type": "code",
   "execution_count": null,
   "metadata": {},
   "outputs": [],
   "source": []
  },
  {
   "cell_type": "code",
   "execution_count": null,
   "metadata": {},
   "outputs": [],
   "source": []
  },
  {
   "cell_type": "markdown",
   "metadata": {},
   "source": [
    "## References:\n",
    "**[1]:** *https://en.wikipedia.org/wiki/NumPy*\n",
    "\n",
    "**[2]** *www.numpy.org*\n",
    "\n",
    "**[3]:** *https://docs.scipy.org/doc/numpy-1.15.1/reference/arrays.ndarray.html*\n",
    "\n",
    "**[4]:** *https://docs.scipy.org/doc/numpy-1.15.1/reference/routines.random.html*\n",
    "\n",
    "**[5]:** *https://www.labri.fr/perso/nrougier/teaching/numpy/numpy.html#introduction*\n",
    "\n",
    "**[6]:** *https://docs.scipy.org/doc/numpy-1.15.1/reference/generated/numpy.random.rand.html#numpy.random.rand*\n",
    "\n",
    "**[7]:** *http://mathworld.wolfram.com/Half-ClosedInterval.html*\n",
    "\n",
    "**[8]:** *Reference 7*"
   ]
  },
  {
   "cell_type": "code",
   "execution_count": null,
   "metadata": {},
   "outputs": [],
   "source": []
  }
 ],
 "metadata": {
  "kernelspec": {
   "display_name": "Python 3",
   "language": "python",
   "name": "python3"
  },
  "language_info": {
   "codemirror_mode": {
    "name": "ipython",
    "version": 3
   },
   "file_extension": ".py",
   "mimetype": "text/x-python",
   "name": "python",
   "nbconvert_exporter": "python",
   "pygments_lexer": "ipython3",
   "version": "3.6.6"
  }
 },
 "nbformat": 4,
 "nbformat_minor": 2
}
