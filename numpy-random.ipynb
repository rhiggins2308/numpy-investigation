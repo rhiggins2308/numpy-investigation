{
 "cells": [
  {
   "cell_type": "markdown",
   "metadata": {},
   "source": [
    "# The numpy.random Package\n",
    "---------------------------------------------\n",
    "\n",
    "## Here follows an investigation into the numpy.random package\n",
    "\n",
    "After a brief introduction to **numpy**, we will zoom in to the **numpy.random** package to examine:\n",
    "* where it came from\n",
    "* who developed it\n",
    "* what is it's purpose\n",
    "\n",
    "We will then drill down into the package itself to look at some of the **functionality**, namely:\n",
    "* Simple Random Data\n",
    "* Permutations\n",
    "\n",
    "Further to this, we will then look into some examples of the various numpy **distributions**:\n",
    "* Some explanatory introduction and **visualisation**\n",
    "* Where and how they are used in **Mathematics, Statistics and Probability**\n",
    "* How this relates back to **coding and data analysis**\n",
    "\n",
    "Finally, we will discuss **seeding** within the numpy.random\n",
    "* Can Python really generate random numbers?\n",
    "* How to Python \"random\" numbers work?\n",
    "* Is there pattern to Python randomness?\n"
   ]
  },
  {
   "cell_type": "code",
   "execution_count": null,
   "metadata": {},
   "outputs": [],
   "source": []
  },
  {
   "cell_type": "code",
   "execution_count": null,
   "metadata": {},
   "outputs": [],
   "source": []
  },
  {
   "cell_type": "code",
   "execution_count": null,
   "metadata": {},
   "outputs": [],
   "source": []
  },
  {
   "cell_type": "code",
   "execution_count": null,
   "metadata": {},
   "outputs": [],
   "source": []
  },
  {
   "cell_type": "code",
   "execution_count": null,
   "metadata": {},
   "outputs": [],
   "source": []
  },
  {
   "cell_type": "code",
   "execution_count": null,
   "metadata": {},
   "outputs": [],
   "source": []
  }
 ],
 "metadata": {
  "kernelspec": {
   "display_name": "Python 3",
   "language": "python",
   "name": "python3"
  },
  "language_info": {
   "codemirror_mode": {
    "name": "ipython",
    "version": 3
   },
   "file_extension": ".py",
   "mimetype": "text/x-python",
   "name": "python",
   "nbconvert_exporter": "python",
   "pygments_lexer": "ipython3",
   "version": "3.6.6"
  }
 },
 "nbformat": 4,
 "nbformat_minor": 2
}
